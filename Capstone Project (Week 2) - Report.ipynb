{
    "cells": [
        {
            "cell_type": "markdown",
            "metadata": {
                "collapsed": true
            },
            "source": "# A Recommendation System for Groceries Contractor\n\n## Brief Introduction\n\n### *Introduction / Problem Description*\nThere is a groceries contractor in one of the boroughs of Toronto (Scarborough). This contractor provides places such as: Different types of Restaurants, Bakery, Breakfast Spot, Brewery and Caf\u00e9 with fresh and high-quality groceries. The contractor wishes to build a warehouse for the groceries it purchases from villagers and farmers inside the borough, so that they will support more customers and also bring better service quality to old customers. For instance, if the warehouse is close to those old and famous restaurants, then vegetables and other groceries would be delivered to the restaurant in the right time and there would be no delay and the restaurant cooks can start their job from the morning, thus the quality of service will be satisfactory and this contractor will gain more reputation and income. The contractor should build this warehouse where it is closest to its customers in order to minimize the cost of transpotation in addition to the example above, which the neighborhood (in that borough) would be a better choice for the contractor. Identifying the correct neighborhood is the goal and this recommendation system will provide this contractor with a sorted list of neighborhoods in which the first elemnt of the list will be the best suggested neighborhood.\n\n### *Data*\n1. The geo-locational information about that specific borough and the neighborhoods in that borough is required, (i.e., the latitude and longitude of the borough). We assume that it is \"Scarborough\" in Toronto. This is easily provided for us by the contractor, because the contractor has already made up his mind about the borough. The Postal Codes that fall into that borough (Scarborough) would also be sufficient fo us. I supposed we will first find neighborhoods inside Scarborough by their corresponding Postal Codes.\u00b6\n\n2. We also need data about different venues in different neighborhoods of that specific borough. In order to gain that information, we will use \"Foursquare\" locational information. By locational information for each venue we mean basic and advanced information about that venue. For example there is a venue in one of the neighborhoods. As basic information, we can obtain its precise latitude and longitude and also its distance from the center of the neighborhood. But we are looking for advanced information such as the category of that venue and whether this venue is a popular one in its category or maybe the average price of the services of this venue. A typical request from Foursquare will provide us with the following information: \\\n[Postal Code] [Neighborhood(s)] [Neighborhood Latitude] [Neighborhood Longitude] [Venue] [Venue Summary] [Venue Category] [Distance (meter)] [M1L] [Clairlea, Golden Mile, Oakridge] [43.711112] [-79.284577] [Tim Hortons] [This spot is popular] [Coffee Shop] [592]\n\n### *Methodology*\n1. Identifying Neighborhoods inside Scarborough \\\n We used Postal Codes of different regions inside Scarborough to identify the list of neighborhoods. The data were retrieved from https://en.wikipedia.org/wiki/List_of_postal_codes_of_Canada:_M and then process the table inside this site. Images from dataframes and also from maps will be provided in the presentation.\n\n2. Connecting to Foursquare and Retrieving Locational Data for Each Venue in Every Neighborhood \\\n After finding the list of neighborhoods, we then connected to the Foursquare API to gather information about venues inside each and every neighborhood. For each neighborhood, we have chosen the radius to be 1000 meter. It indicates that we have asked Foursquare to search venues that are at most 1000 meter far from the center of the neighborhood. (I supposed the distance is measured by latitude and longitude of venues and neighborhoods, and it is not the walking distance for venues.)\n\n3. Processing the Retrieved Data and Creating a DataFrome for All the Venues inside the Scarborough \\\n When the data were completely gathered, we performed processing on that raw data to identify our desirable features for each venue. Our main feature is the category of that venue. After this stage, the column \"Venue's Category\" is One-hot encoded and different venues will have different feature-columns. After On-hot encoding we integrated all restaurant columns to one column \"Total Restaurants\" and all food joint columns to \"Total Joints\" column. We assumed that different resaturants use the Same raw groceries. This assumption is made for simplicity and due to not having a very detailed dataset about different venues.\u00b6\nNow, the dataset is fully ready to be used for machine learning (and statistical analysis) purposes.\n\n4. Applying one of Machine Learning Techniques (K-Means Clustering) \\\n We clustered neighborhoods via K-means clustering method. 5 clusters should be sufficient to cover the complexity of our problem. After clustering, we updated our dataset and created a column representing the group for each neighborhood.\n \n### *Results*\nWe focused on the centers of clusters and compared them for their \"Total Restaurants\" and their \"Total Joints\". The group which its center has the highest \"Total Sum\" is our best recommendation to the contractor. [*Note: Total Sum = Total Restaurants + Total Joints + Other Venues.*]. This algorithm although is pretty straightforward yet is strongly powerful.\n\nAccording to the analysis results, the optimal recommended neighborhood is:\n{'Neighborhood': 'Agincourt',\n'Postal Code': 'M1S',\n'Neighborhood Latitude': 43.7942003,\n'Neighborhood Longitude': -79.26202940000002}\n\n### *Conclusion*\nWe have identified the best recommended neighbourhood for the contractor, in the hope that he will be benefited from this \n"
        },
        {
            "cell_type": "code",
            "execution_count": null,
            "metadata": {},
            "outputs": [],
            "source": ""
        }
    ],
    "metadata": {
        "kernelspec": {
            "display_name": "Python 3.6",
            "language": "python",
            "name": "python3"
        },
        "language_info": {
            "codemirror_mode": {
                "name": "ipython",
                "version": 3
            },
            "file_extension": ".py",
            "mimetype": "text/x-python",
            "name": "python",
            "nbconvert_exporter": "python",
            "pygments_lexer": "ipython3",
            "version": "3.6.9"
        }
    },
    "nbformat": 4,
    "nbformat_minor": 1
}