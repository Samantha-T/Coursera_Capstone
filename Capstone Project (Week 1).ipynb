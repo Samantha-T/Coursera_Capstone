{
    "cells": [
        {
            "cell_type": "markdown",
            "metadata": {
                "collapsed": true
            },
            "source": "# A Recommendation System for Groceries Contractor\n\n## Brief Introduction\n\n### *Introduction / Problem Description*\nThere is a groceries contractor in one of the boroughs of Toronto (Scarborough). This contractor provides places such as: Different types of Restaurants, Bakery, Breakfast Spot, Brewery and Caf\u00e9 with fresh and high-quality groceries. The contractor wishes to build a warehouse for the groceries it purchases from villagers and farmers inside the borough, so that they will support more customers and also bring better service quality to  old customers.\nFor instance, if the warehouse is close to those old and famous restaurants, then vegetables and other groceries would be delivered to the restaurant in the right time and there would be no delay and the restaurant cooks can start their job from the morning, thus the quality of service will be satisfactory and this contractor will gain more reputation and income.\nThe contractor should build this warehouse where it is closest to its customers in order to minimize the cost of transpotation in addition to the example above, which the neighborhood (in that borough) would be a better choice for the contractor. Identifying the correct neighborhood is the goal and this recommendation system will provide this contractor with a sorted list of neighborhoods in which the first elemnt of the list will be the best suggested neighborhood.\n\n### *Data*\n1. The geo-locational information about that specific borough and the neighborhoods in that borough is required, (i.e.,  the latitude and longitude of the borough). We assume that it is \"Scarborough\" in Toronto. This is easily provided for us by the contractor, because the contractor has already made up his mind about the borough. The Postal Codes that fall into that borough (Scarborough) would also be sufficient fo us. I supposed we will first find neighborhoods inside Scarborough by their corresponding Postal Codes.\u00b6\n\n2. We also need data about different venues in different neighborhoods of that specific borough. In order to gain that information, we will use \"Foursquare\" locational information. By locational information for each venue we mean basic and advanced information about that venue. For example there is a venue in one of the neighborhoods. As basic information, we can obtain its precise latitude and longitude and also its distance from the center of the neighborhood. But we are looking for advanced information such as the category of that venue and whether this venue is a popular one in its category or maybe the average price of the services of this venue. A typical request from Foursquare will provide us with the following information:\\\n[Postal Code] [Neighborhood(s)] [Neighborhood Latitude] [Neighborhood Longitude] [Venue] [Venue Summary] [Venue Category] [Distance (meter)]\n[M1L] [Clairlea, Golden Mile, Oakridge] [43.711112] [-79.284577] [Tim Hortons] [This spot is popular] [Coffee Shop] [592]"
        },
        {
            "cell_type": "code",
            "execution_count": null,
            "metadata": {},
            "outputs": [],
            "source": ""
        }
    ],
    "metadata": {
        "kernelspec": {
            "display_name": "Python 3.6",
            "language": "python",
            "name": "python3"
        },
        "language_info": {
            "codemirror_mode": {
                "name": "ipython",
                "version": 3
            },
            "file_extension": ".py",
            "mimetype": "text/x-python",
            "name": "python",
            "nbconvert_exporter": "python",
            "pygments_lexer": "ipython3",
            "version": "3.6.9"
        }
    },
    "nbformat": 4,
    "nbformat_minor": 1
}